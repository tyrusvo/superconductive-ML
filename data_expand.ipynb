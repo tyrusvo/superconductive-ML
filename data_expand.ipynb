{
 "cells": [
  {
   "cell_type": "markdown",
   "metadata": {},
   "source": [
    "**Valentin Stanev**\n",
    "\n",
    "**Machine Learning Superconductivity**\n",
    "\n"
   ]
  },
  {
   "cell_type": "code",
   "execution_count": 1,
   "metadata": {},
   "outputs": [],
   "source": [
    "import numpy as np\n",
    "import pandas as pd\n",
    "import matplotlib.pyplot as plt\n",
    "import sklearn\n",
    "plt.style.use('ggplot')"
   ]
  },
  {
   "cell_type": "markdown",
   "metadata": {},
   "source": [
    "## Read and clean the data\n",
    "\n",
    "Import the data using pandas and have a quick look with some basic functions: shape, head() , describe()"
   ]
  },
  {
   "cell_type": "code",
   "execution_count": 2,
   "metadata": {},
   "outputs": [],
   "source": [
    "# !wget -O Supercond_ML_data.zip https://drive.google.com/u/0/uc?id=18Di08gG5749qXzOax-vzS3navEYRwL51&export=download\n",
    "# !unzip Supercond_ML_data.zip"
   ]
  },
  {
   "cell_type": "code",
   "execution_count": 3,
   "metadata": {
    "scrolled": false
   },
   "outputs": [
    {
     "data": {
      "text/html": [
       "<div>\n",
       "<style scoped>\n",
       "    .dataframe tbody tr th:only-of-type {\n",
       "        vertical-align: middle;\n",
       "    }\n",
       "\n",
       "    .dataframe tbody tr th {\n",
       "        vertical-align: top;\n",
       "    }\n",
       "\n",
       "    .dataframe thead th {\n",
       "        text-align: right;\n",
       "    }\n",
       "</style>\n",
       "<table border=\"1\" class=\"dataframe\">\n",
       "  <thead>\n",
       "    <tr style=\"text-align: right;\">\n",
       "      <th></th>\n",
       "      <th>id</th>\n",
       "      <th>name</th>\n",
       "      <th>Tc</th>\n",
       "    </tr>\n",
       "  </thead>\n",
       "  <tbody>\n",
       "    <tr>\n",
       "      <th>0</th>\n",
       "      <td>1</td>\n",
       "      <td>Sn1Te1</td>\n",
       "      <td>NaN</td>\n",
       "    </tr>\n",
       "    <tr>\n",
       "      <th>1</th>\n",
       "      <td>2</td>\n",
       "      <td>Au0.22Te0.78</td>\n",
       "      <td>1.54</td>\n",
       "    </tr>\n",
       "    <tr>\n",
       "      <th>2</th>\n",
       "      <td>3</td>\n",
       "      <td>La1.92Sr0.08Cu1O4</td>\n",
       "      <td>24</td>\n",
       "    </tr>\n",
       "    <tr>\n",
       "      <th>3</th>\n",
       "      <td>4</td>\n",
       "      <td>Bi2Sr1.85Ba0.15Ca1Cu2Oz</td>\n",
       "      <td>83.5</td>\n",
       "    </tr>\n",
       "    <tr>\n",
       "      <th>4</th>\n",
       "      <td>5</td>\n",
       "      <td>B2Mg1</td>\n",
       "      <td>39.5</td>\n",
       "    </tr>\n",
       "  </tbody>\n",
       "</table>\n",
       "</div>"
      ],
      "text/plain": [
       "   id                     name    Tc\n",
       "0   1                   Sn1Te1   NaN\n",
       "1   2             Au0.22Te0.78  1.54\n",
       "2   3        La1.92Sr0.08Cu1O4    24\n",
       "3   4  Bi2Sr1.85Ba0.15Ca1Cu2Oz  83.5\n",
       "4   5                    B2Mg1  39.5"
      ]
     },
     "execution_count": 3,
     "metadata": {},
     "output_type": "execute_result"
    }
   ],
   "source": [
    "data = pd.read_csv('SC_short_June2017.csv')\n",
    "data.head()"
   ]
  },
  {
   "cell_type": "markdown",
   "metadata": {},
   "source": [
    "Check the format and the shape"
   ]
  },
  {
   "cell_type": "code",
   "execution_count": 4,
   "metadata": {
    "scrolled": true
   },
   "outputs": [
    {
     "data": {
      "text/plain": [
       "('24', str)"
      ]
     },
     "execution_count": 4,
     "metadata": {},
     "output_type": "execute_result"
    }
   ],
   "source": [
    "data[\"Tc\"][2], type(data[\"Tc\"][2])"
   ]
  },
  {
   "cell_type": "code",
   "execution_count": 5,
   "metadata": {},
   "outputs": [
    {
     "name": "stdout",
     "output_type": "stream",
     "text": [
      "Shape of the data:  (9999, 3)\n"
     ]
    }
   ],
   "source": [
    "print(\"Shape of the data: \", data.shape)"
   ]
  },
  {
   "cell_type": "markdown",
   "metadata": {},
   "source": [
    "There are invalid compositions and $T_c$ entries\n",
    "\n",
    "We need to do some basic data cleaning "
   ]
  },
  {
   "cell_type": "code",
   "execution_count": 6,
   "metadata": {},
   "outputs": [
    {
     "data": {
      "text/plain": [
       "id                     18\n",
       "name    La1.9Ca1.1Cu2O6+Y\n",
       "Tc                    NaN\n",
       "Name: 17, dtype: object"
      ]
     },
     "execution_count": 6,
     "metadata": {},
     "output_type": "execute_result"
    }
   ],
   "source": [
    "data.loc[17]"
   ]
  },
  {
   "cell_type": "code",
   "execution_count": 7,
   "metadata": {},
   "outputs": [
    {
     "data": {
      "text/html": [
       "<div>\n",
       "<style scoped>\n",
       "    .dataframe tbody tr th:only-of-type {\n",
       "        vertical-align: middle;\n",
       "    }\n",
       "\n",
       "    .dataframe tbody tr th {\n",
       "        vertical-align: top;\n",
       "    }\n",
       "\n",
       "    .dataframe thead th {\n",
       "        text-align: right;\n",
       "    }\n",
       "</style>\n",
       "<table border=\"1\" class=\"dataframe\">\n",
       "  <thead>\n",
       "    <tr style=\"text-align: right;\">\n",
       "      <th></th>\n",
       "      <th>id</th>\n",
       "      <th>name</th>\n",
       "      <th>Tc</th>\n",
       "    </tr>\n",
       "  </thead>\n",
       "  <tbody>\n",
       "    <tr>\n",
       "      <th>3</th>\n",
       "      <td>4</td>\n",
       "      <td>Bi2Sr1.85Ba0.15Ca1Cu2Oz</td>\n",
       "      <td>83.5</td>\n",
       "    </tr>\n",
       "    <tr>\n",
       "      <th>10</th>\n",
       "      <td>11</td>\n",
       "      <td>Bi4Sr4Er2Cu4O16+Y</td>\n",
       "      <td>NaN</td>\n",
       "    </tr>\n",
       "    <tr>\n",
       "      <th>17</th>\n",
       "      <td>18</td>\n",
       "      <td>La1.9Ca1.1Cu2O6+Y</td>\n",
       "      <td>NaN</td>\n",
       "    </tr>\n",
       "    <tr>\n",
       "      <th>22</th>\n",
       "      <td>23</td>\n",
       "      <td>Y1Ba2Cu2.7Fe0.3IOZ</td>\n",
       "      <td>NaN</td>\n",
       "    </tr>\n",
       "    <tr>\n",
       "      <th>27</th>\n",
       "      <td>28</td>\n",
       "      <td>Hg1Ba2Ca4Cu5Oz</td>\n",
       "      <td>87</td>\n",
       "    </tr>\n",
       "    <tr>\n",
       "      <th>...</th>\n",
       "      <td>...</td>\n",
       "      <td>...</td>\n",
       "      <td>...</td>\n",
       "    </tr>\n",
       "    <tr>\n",
       "      <th>9974</th>\n",
       "      <td>9975</td>\n",
       "      <td>Pb0.5Cd0.5Sr2Ca0.5Y0.5Cu2O7-Z</td>\n",
       "      <td>65</td>\n",
       "    </tr>\n",
       "    <tr>\n",
       "      <th>9977</th>\n",
       "      <td>9978</td>\n",
       "      <td>Y1Ba2Cu3O7-Z</td>\n",
       "      <td>90.5</td>\n",
       "    </tr>\n",
       "    <tr>\n",
       "      <th>9981</th>\n",
       "      <td>9982</td>\n",
       "      <td>Y1Ba2Cu2.55Co0.45O7-z</td>\n",
       "      <td>NaN</td>\n",
       "    </tr>\n",
       "    <tr>\n",
       "      <th>9982</th>\n",
       "      <td>9983</td>\n",
       "      <td>Er2Ba4Cu7O15-Z</td>\n",
       "      <td>85</td>\n",
       "    </tr>\n",
       "    <tr>\n",
       "      <th>9984</th>\n",
       "      <td>9985</td>\n",
       "      <td>La5.87Sr2.13Cu8O20-Y</td>\n",
       "      <td>NaN</td>\n",
       "    </tr>\n",
       "  </tbody>\n",
       "</table>\n",
       "<p>2153 rows × 3 columns</p>\n",
       "</div>"
      ],
      "text/plain": [
       "        id                           name    Tc\n",
       "3        4        Bi2Sr1.85Ba0.15Ca1Cu2Oz  83.5\n",
       "10      11              Bi4Sr4Er2Cu4O16+Y   NaN\n",
       "17      18              La1.9Ca1.1Cu2O6+Y   NaN\n",
       "22      23             Y1Ba2Cu2.7Fe0.3IOZ   NaN\n",
       "27      28                 Hg1Ba2Ca4Cu5Oz    87\n",
       "...    ...                            ...   ...\n",
       "9974  9975  Pb0.5Cd0.5Sr2Ca0.5Y0.5Cu2O7-Z    65\n",
       "9977  9978                   Y1Ba2Cu3O7-Z  90.5\n",
       "9981  9982          Y1Ba2Cu2.55Co0.45O7-z   NaN\n",
       "9982  9983                 Er2Ba4Cu7O15-Z    85\n",
       "9984  9985           La5.87Sr2.13Cu8O20-Y   NaN\n",
       "\n",
       "[2153 rows x 3 columns]"
      ]
     },
     "execution_count": 7,
     "metadata": {},
     "output_type": "execute_result"
    }
   ],
   "source": [
    "data[data['name'].str.contains(\"Oy|oz|ox|\\\\+d|\\\\+x|\\\\+D|\\\\+X|\\\\+z|\\\\+y|-y|-z|=z|Fz|Ph|Nn|-d|-x\", case = False)]"
   ]
  },
  {
   "cell_type": "code",
   "execution_count": 8,
   "metadata": {},
   "outputs": [
    {
     "data": {
      "text/plain": [
       "(7844, 3)"
      ]
     },
     "execution_count": 8,
     "metadata": {},
     "output_type": "execute_result"
    }
   ],
   "source": [
    "data = data.loc[~data['name'].str.contains(\"Oy|oz|ox|\\\\+d|\\\\+x|\\\\+D|\\\\+X|\\\\+z|\\\\+y|-y|-z|=z|Fz|Ph|Nn|-d|-x\", case = False)]\n",
    "data = data[~data['Tc'].str.contains(\"C|Re\", case = False, na=False)]\n",
    "data.shape"
   ]
  },
  {
   "cell_type": "markdown",
   "metadata": {},
   "source": [
    "Convert $T_c$ values to numbers"
   ]
  },
  {
   "cell_type": "code",
   "execution_count": 9,
   "metadata": {},
   "outputs": [],
   "source": [
    "data[\"Tc\"]= data[\"Tc\"].apply(lambda x:  float(x))"
   ]
  },
  {
   "cell_type": "code",
   "execution_count": 10,
   "metadata": {},
   "outputs": [
    {
     "data": {
      "text/html": [
       "<div>\n",
       "<style scoped>\n",
       "    .dataframe tbody tr th:only-of-type {\n",
       "        vertical-align: middle;\n",
       "    }\n",
       "\n",
       "    .dataframe tbody tr th {\n",
       "        vertical-align: top;\n",
       "    }\n",
       "\n",
       "    .dataframe thead th {\n",
       "        text-align: right;\n",
       "    }\n",
       "</style>\n",
       "<table border=\"1\" class=\"dataframe\">\n",
       "  <thead>\n",
       "    <tr style=\"text-align: right;\">\n",
       "      <th></th>\n",
       "      <th>id</th>\n",
       "      <th>name</th>\n",
       "      <th>Tc</th>\n",
       "    </tr>\n",
       "  </thead>\n",
       "  <tbody>\n",
       "    <tr>\n",
       "      <th>0</th>\n",
       "      <td>1</td>\n",
       "      <td>Sn1Te1</td>\n",
       "      <td>NaN</td>\n",
       "    </tr>\n",
       "    <tr>\n",
       "      <th>1</th>\n",
       "      <td>2</td>\n",
       "      <td>Au0.22Te0.78</td>\n",
       "      <td>1.54</td>\n",
       "    </tr>\n",
       "    <tr>\n",
       "      <th>2</th>\n",
       "      <td>3</td>\n",
       "      <td>La1.92Sr0.08Cu1O4</td>\n",
       "      <td>24.00</td>\n",
       "    </tr>\n",
       "    <tr>\n",
       "      <th>4</th>\n",
       "      <td>5</td>\n",
       "      <td>B2Mg1</td>\n",
       "      <td>39.50</td>\n",
       "    </tr>\n",
       "    <tr>\n",
       "      <th>5</th>\n",
       "      <td>6</td>\n",
       "      <td>Pu1Rh1Ga5</td>\n",
       "      <td>8.50</td>\n",
       "    </tr>\n",
       "  </tbody>\n",
       "</table>\n",
       "</div>"
      ],
      "text/plain": [
       "   id               name     Tc\n",
       "0   1             Sn1Te1    NaN\n",
       "1   2       Au0.22Te0.78   1.54\n",
       "2   3  La1.92Sr0.08Cu1O4  24.00\n",
       "4   5              B2Mg1  39.50\n",
       "5   6          Pu1Rh1Ga5   8.50"
      ]
     },
     "execution_count": 10,
     "metadata": {},
     "output_type": "execute_result"
    }
   ],
   "source": [
    "data.head()"
   ]
  },
  {
   "cell_type": "markdown",
   "metadata": {},
   "source": [
    "What to do with the NA values?\n",
    "\n",
    "No $T_c$ - can we say $T_c$=0?"
   ]
  },
  {
   "cell_type": "code",
   "execution_count": 11,
   "metadata": {},
   "outputs": [],
   "source": [
    "data = data.fillna(0)"
   ]
  },
  {
   "cell_type": "markdown",
   "metadata": {},
   "source": [
    "Get quick descrition of the data"
   ]
  },
  {
   "cell_type": "code",
   "execution_count": 12,
   "metadata": {},
   "outputs": [
    {
     "data": {
      "text/plain": [
       "count    7844.000000\n",
       "mean       19.527631\n",
       "std        36.792161\n",
       "min         0.000000\n",
       "25%         0.631500\n",
       "50%         6.095000\n",
       "75%        25.600000\n",
       "max      2161.000000\n",
       "Name: Tc, dtype: float64"
      ]
     },
     "execution_count": 12,
     "metadata": {},
     "output_type": "execute_result"
    }
   ],
   "source": [
    "data['Tc'].describe()"
   ]
  },
  {
   "cell_type": "markdown",
   "metadata": {},
   "source": [
    "Clear mistake: $T_c$ = 2161 K.\n",
    "Remove this entry"
   ]
  },
  {
   "cell_type": "code",
   "execution_count": 13,
   "metadata": {
    "scrolled": false
   },
   "outputs": [
    {
     "data": {
      "text/plain": [
       "count    7843.000000\n",
       "mean       19.254588\n",
       "std        27.730373\n",
       "min         0.000000\n",
       "25%         0.629000\n",
       "50%         6.090000\n",
       "75%        25.600000\n",
       "max       135.800000\n",
       "Name: Tc, dtype: float64"
      ]
     },
     "execution_count": 13,
     "metadata": {},
     "output_type": "execute_result"
    }
   ],
   "source": [
    "data['Tc'].sort_values(ascending=False)[:10]\n",
    "data.loc[228]\n",
    "data = data.drop([228])\n",
    "data['Tc'].describe()"
   ]
  },
  {
   "cell_type": "code",
   "execution_count": 14,
   "metadata": {},
   "outputs": [
    {
     "data": {
      "text/plain": [
       "count           7843\n",
       "unique          6293\n",
       "top       Y1Ba2Cu3O7\n",
       "freq              50\n",
       "Name: name, dtype: object"
      ]
     },
     "execution_count": 14,
     "metadata": {},
     "output_type": "execute_result"
    }
   ],
   "source": [
    "data[\"name\"].describe()"
   ]
  },
  {
   "cell_type": "markdown",
   "metadata": {},
   "source": [
    "What to do with the multiple entries for a single compound?\n",
    "\n",
    "Average the $T_c$ values, but only if std($T_c$)< 5 K. Otherwise, discard the compound."
   ]
  },
  {
   "cell_type": "code",
   "execution_count": 15,
   "metadata": {},
   "outputs": [
    {
     "name": "stdout",
     "output_type": "stream",
     "text": [
      "How many compounds have sdt > 5 K:  141\n",
      "Remaining entries:  7135\n"
     ]
    }
   ],
   "source": [
    "# Find the compositions with std(T_c)>5\n",
    "grouped = data.groupby(\"name\").agg({'Tc' : np.std}).dropna()\n",
    "index1 = grouped[grouped > 5].dropna().index\n",
    "print(\"How many compounds have sdt > 5 K: \", len(index1))\n",
    "del grouped\n",
    "\n",
    "#Average the T_c for the rest\n",
    "print(\"Remaining entries: \", data[~data['name'].isin(index1)].shape[0])\n",
    "data = data[~data['name'].isin(index1)].groupby(\"name\", as_index=False).agg(np.mean)\n",
    "# del data[\"index\"]"
   ]
  },
  {
   "cell_type": "code",
   "execution_count": 16,
   "metadata": {},
   "outputs": [
    {
     "data": {
      "text/plain": [
       "count               6152\n",
       "unique              6152\n",
       "top       Ag0.005Zn0.995\n",
       "freq                   1\n",
       "Name: name, dtype: object"
      ]
     },
     "execution_count": 16,
     "metadata": {},
     "output_type": "execute_result"
    }
   ],
   "source": [
    "data[\"name\"].describe()"
   ]
  },
  {
   "cell_type": "markdown",
   "metadata": {},
   "source": [
    "Check for NaN"
   ]
  },
  {
   "cell_type": "code",
   "execution_count": 17,
   "metadata": {},
   "outputs": [
    {
     "data": {
      "text/plain": [
       "False"
      ]
     },
     "execution_count": 17,
     "metadata": {},
     "output_type": "execute_result"
    }
   ],
   "source": [
    "data.isna().values.any()\n",
    "#data.isna().sum().sum()"
   ]
  },
  {
   "cell_type": "markdown",
   "metadata": {},
   "source": [
    "## First look at the data"
   ]
  },
  {
   "cell_type": "markdown",
   "metadata": {},
   "source": [
    "How many compounds have no $T_c$?"
   ]
  },
  {
   "cell_type": "code",
   "execution_count": 18,
   "metadata": {
    "scrolled": false
   },
   "outputs": [
    {
     "name": "stdout",
     "output_type": "stream",
     "text": [
      "number of compounds without Tc: 1423\n",
      "number of compounds with Tc: 4729\n"
     ]
    },
    {
     "data": {
      "text/plain": [
       "count    4729.000000\n",
       "mean       23.131778\n",
       "std        28.507565\n",
       "min         0.001000\n",
       "25%         3.420000\n",
       "50%         9.830000\n",
       "75%        32.000000\n",
       "max       135.800000\n",
       "Name: Tc, dtype: float64"
      ]
     },
     "execution_count": 18,
     "metadata": {},
     "output_type": "execute_result"
    }
   ],
   "source": [
    "print(\"number of compounds without Tc:\",(data['Tc']==0).sum())\n",
    "print(\"number of compounds with Tc:\",(~(data['Tc']==0)).sum())\n",
    "data['Tc'][(data['Tc']>0)].describe()"
   ]
  },
  {
   "cell_type": "markdown",
   "metadata": {},
   "source": [
    "Pandas also have ploting functions.\n",
    "\n",
    "Let's check the distribution of $T_s$'s"
   ]
  },
  {
   "cell_type": "code",
   "execution_count": 19,
   "metadata": {},
   "outputs": [
    {
     "data": {
      "text/plain": [
       "<AxesSubplot:>"
      ]
     },
     "execution_count": 19,
     "metadata": {},
     "output_type": "execute_result"
    },
    {
     "data": {
      "image/png": "[encoded data removed]",
      "text/plain": [
       "<Figure size 576x432 with 1 Axes>"
      ]
     },
     "metadata": {
      "needs_background": "light"
     },
     "output_type": "display_data"
    }
   ],
   "source": [
    "%matplotlib inline\n",
    "\n",
    "plt.rcParams['figure.figsize'] = (8.0, 6.0)\n",
    "data[\"Tc\"][data[\"Tc\"]>0].hist(bins = range(0,140, 2))"
   ]
  },
  {
   "cell_type": "code",
   "execution_count": 20,
   "metadata": {},
   "outputs": [
    {
     "data": {
      "text/html": [
       "<div>\n",
       "<style scoped>\n",
       "    .dataframe tbody tr th:only-of-type {\n",
       "        vertical-align: middle;\n",
       "    }\n",
       "\n",
       "    .dataframe tbody tr th {\n",
       "        vertical-align: top;\n",
       "    }\n",
       "\n",
       "    .dataframe thead th {\n",
       "        text-align: right;\n",
       "    }\n",
       "</style>\n",
       "<table border=\"1\" class=\"dataframe\">\n",
       "  <thead>\n",
       "    <tr style=\"text-align: right;\">\n",
       "      <th></th>\n",
       "      <th>name</th>\n",
       "      <th>id</th>\n",
       "      <th>Tc</th>\n",
       "    </tr>\n",
       "  </thead>\n",
       "  <tbody>\n",
       "    <tr>\n",
       "      <th>2041</th>\n",
       "      <td>Hg1Ba2Ca1Cu2O6.21</td>\n",
       "      <td>7400.0</td>\n",
       "      <td>127.0</td>\n",
       "    </tr>\n",
       "    <tr>\n",
       "      <th>2003</th>\n",
       "      <td>Hg0.7Pb0.3Ba2Ca2Cu3O8.35</td>\n",
       "      <td>7529.0</td>\n",
       "      <td>130.0</td>\n",
       "    </tr>\n",
       "    <tr>\n",
       "      <th>2009</th>\n",
       "      <td>Hg0.8Bi0.2Ba2Ca2Cu3O8.2</td>\n",
       "      <td>4229.0</td>\n",
       "      <td>130.0</td>\n",
       "    </tr>\n",
       "    <tr>\n",
       "      <th>2006</th>\n",
       "      <td>Hg0.85Re0.15Ba1.6Sr0.4Ca2Cu3O8</td>\n",
       "      <td>887.0</td>\n",
       "      <td>130.3</td>\n",
       "    </tr>\n",
       "    <tr>\n",
       "      <th>1993</th>\n",
       "      <td>Hg0.6Ti0.4Ba2Ca2Cu3O8.4</td>\n",
       "      <td>3533.0</td>\n",
       "      <td>131.0</td>\n",
       "    </tr>\n",
       "    <tr>\n",
       "      <th>2005</th>\n",
       "      <td>Hg0.85Re0.15Ba1.66Sr0.34Ca2Cu3O8</td>\n",
       "      <td>9487.0</td>\n",
       "      <td>131.3</td>\n",
       "    </tr>\n",
       "    <tr>\n",
       "      <th>1995</th>\n",
       "      <td>Hg0.75Ba2.07Ca2.07Cu3.11O8.136</td>\n",
       "      <td>2440.0</td>\n",
       "      <td>132.9</td>\n",
       "    </tr>\n",
       "    <tr>\n",
       "      <th>2046</th>\n",
       "      <td>Hg1Ba2Ca2Cu3O8.29</td>\n",
       "      <td>6193.0</td>\n",
       "      <td>135.0</td>\n",
       "    </tr>\n",
       "    <tr>\n",
       "      <th>1996</th>\n",
       "      <td>Hg0.75Ba2.07Ca2.07Cu3.11O8.187</td>\n",
       "      <td>1229.0</td>\n",
       "      <td>135.4</td>\n",
       "    </tr>\n",
       "    <tr>\n",
       "      <th>1997</th>\n",
       "      <td>Hg0.75Ba2.07Ca2.07Cu3.11O8.208</td>\n",
       "      <td>7756.0</td>\n",
       "      <td>135.8</td>\n",
       "    </tr>\n",
       "  </tbody>\n",
       "</table>\n",
       "</div>"
      ],
      "text/plain": [
       "                                  name      id     Tc\n",
       "2041                 Hg1Ba2Ca1Cu2O6.21  7400.0  127.0\n",
       "2003          Hg0.7Pb0.3Ba2Ca2Cu3O8.35  7529.0  130.0\n",
       "2009           Hg0.8Bi0.2Ba2Ca2Cu3O8.2  4229.0  130.0\n",
       "2006    Hg0.85Re0.15Ba1.6Sr0.4Ca2Cu3O8   887.0  130.3\n",
       "1993           Hg0.6Ti0.4Ba2Ca2Cu3O8.4  3533.0  131.0\n",
       "2005  Hg0.85Re0.15Ba1.66Sr0.34Ca2Cu3O8  9487.0  131.3\n",
       "1995    Hg0.75Ba2.07Ca2.07Cu3.11O8.136  2440.0  132.9\n",
       "2046                 Hg1Ba2Ca2Cu3O8.29  6193.0  135.0\n",
       "1996    Hg0.75Ba2.07Ca2.07Cu3.11O8.187  1229.0  135.4\n",
       "1997    Hg0.75Ba2.07Ca2.07Cu3.11O8.208  7756.0  135.8"
      ]
     },
     "execution_count": 20,
     "metadata": {},
     "output_type": "execute_result"
    }
   ],
   "source": [
    "# Note the \"iloc\" (vs loc)!\n",
    "data.iloc[data[\"Tc\"].argsort().values[-10:]]"
   ]
  },
  {
   "cell_type": "markdown",
   "metadata": {},
   "source": [
    "## Divide into groups\n",
    "\n",
    "Check each compound name and divide into:\n",
    "\n",
    "* Cuprates - contain Cu and O\n",
    "\n",
    "- Fe-based - contain Fe and As/Se/Te/S/P\n",
    "\n",
    "- Low-$T_c$ - everything else"
   ]
  },
  {
   "cell_type": "code",
   "execution_count": 21,
   "metadata": {},
   "outputs": [
    {
     "name": "stdout",
     "output_type": "stream",
     "text": [
      "number of cuprates: \n",
      "2067\n",
      "number of Fe-based: \n",
      "616\n",
      "number of others: \n",
      "3508\n"
     ]
    }
   ],
   "source": [
    "data[\"Cuprate\"] = data[\"name\"].apply(lambda x: 1 if \"Cu\" in x and \"O\" in x else 0)\n",
    "data[\"Fe-based\"] = data[\"name\"].apply(lambda x: 1 if (\"Fe\" in x and \"As\" in x) \n",
    "                                          or (\"Fe\" in x and \"Se\" in x)\n",
    "                                          or (\"Fe\" in x and \"S\" in x)\n",
    "                                          or (\"Fe\" in x and \"Te\" in x)\n",
    "                                          or (\"Fe\" in x and \"P\" in x)\n",
    "                                          else 0)\n",
    "print(\"number of cuprates: \" )\n",
    "print((data[\"Cuprate\"]==1).sum())\n",
    "print(\"number of Fe-based: \" )\n",
    "print((data[\"Fe-based\"]==1).sum())\n",
    "print(\"number of others: \" )\n",
    "print(((data[\"Fe-based\"]==0)&(data[\"Cuprate\"]==0)).sum())\n",
    "# (data[\"Cuprate\"]==1).sum() + (data[\"Fe-based\"]==1).sum() +((data[\"Fe-based\"]==0)&(data[\"Cuprate\"]==0)).sum()"
   ]
  },
  {
   "cell_type": "code",
   "execution_count": null,
   "metadata": {},
   "outputs": [],
   "source": []
  },
  {
   "cell_type": "markdown",
   "metadata": {},
   "source": [
    "## Matminer"
   ]
  },
  {
   "cell_type": "markdown",
   "metadata": {},
   "source": [
    "Need to generate predictors. Use Matminer - easily generates ~130 elemntal predictors"
   ]
  },
  {
   "cell_type": "code",
   "execution_count": 23,
   "metadata": {},
   "outputs": [],
   "source": [
    "dataframe=data"
   ]
  },
  {
   "cell_type": "code",
   "execution_count": 24,
   "metadata": {},
   "outputs": [
    {
     "data": {
      "text/html": [
       "<div>\n",
       "<style scoped>\n",
       "    .dataframe tbody tr th:only-of-type {\n",
       "        vertical-align: middle;\n",
       "    }\n",
       "\n",
       "    .dataframe tbody tr th {\n",
       "        vertical-align: top;\n",
       "    }\n",
       "\n",
       "    .dataframe thead th {\n",
       "        text-align: right;\n",
       "    }\n",
       "</style>\n",
       "<table border=\"1\" class=\"dataframe\">\n",
       "  <thead>\n",
       "    <tr style=\"text-align: right;\">\n",
       "      <th></th>\n",
       "      <th>name</th>\n",
       "      <th>id</th>\n",
       "      <th>Tc</th>\n",
       "      <th>Cuprate</th>\n",
       "      <th>Fe-based</th>\n",
       "    </tr>\n",
       "  </thead>\n",
       "  <tbody>\n",
       "    <tr>\n",
       "      <th>0</th>\n",
       "      <td>Ag0.005Zn0.995</td>\n",
       "      <td>2473.0</td>\n",
       "      <td>0.763</td>\n",
       "      <td>0</td>\n",
       "      <td>0</td>\n",
       "    </tr>\n",
       "    <tr>\n",
       "      <th>1</th>\n",
       "      <td>Ag0.035Cd0.01Sn0.955</td>\n",
       "      <td>9686.0</td>\n",
       "      <td>3.650</td>\n",
       "      <td>0</td>\n",
       "      <td>0</td>\n",
       "    </tr>\n",
       "    <tr>\n",
       "      <th>2</th>\n",
       "      <td>Ag0.03Tl0.97</td>\n",
       "      <td>505.0</td>\n",
       "      <td>2.670</td>\n",
       "      <td>0</td>\n",
       "      <td>0</td>\n",
       "    </tr>\n",
       "    <tr>\n",
       "      <th>3</th>\n",
       "      <td>Ag0.04Cd0.784Cu0.01Zn0.166</td>\n",
       "      <td>1603.0</td>\n",
       "      <td>0.000</td>\n",
       "      <td>0</td>\n",
       "      <td>0</td>\n",
       "    </tr>\n",
       "    <tr>\n",
       "      <th>4</th>\n",
       "      <td>Ag0.12In0.88</td>\n",
       "      <td>7679.0</td>\n",
       "      <td>4.690</td>\n",
       "      <td>0</td>\n",
       "      <td>0</td>\n",
       "    </tr>\n",
       "    <tr>\n",
       "      <th>...</th>\n",
       "      <td>...</td>\n",
       "      <td>...</td>\n",
       "      <td>...</td>\n",
       "      <td>...</td>\n",
       "      <td>...</td>\n",
       "    </tr>\n",
       "    <tr>\n",
       "      <th>6147</th>\n",
       "      <td>Zr33.3V59.25Nb7.35</td>\n",
       "      <td>5034.0</td>\n",
       "      <td>6.300</td>\n",
       "      <td>0</td>\n",
       "      <td>0</td>\n",
       "    </tr>\n",
       "    <tr>\n",
       "      <th>6148</th>\n",
       "      <td>Zr3V3O1</td>\n",
       "      <td>143.0</td>\n",
       "      <td>7.500</td>\n",
       "      <td>0</td>\n",
       "      <td>0</td>\n",
       "    </tr>\n",
       "    <tr>\n",
       "      <th>6149</th>\n",
       "      <td>Zr46.75Ti8.25Cu7.5Ni10Be27.5</td>\n",
       "      <td>6165.0</td>\n",
       "      <td>1.840</td>\n",
       "      <td>0</td>\n",
       "      <td>0</td>\n",
       "    </tr>\n",
       "    <tr>\n",
       "      <th>6150</th>\n",
       "      <td>Zr54.6Ti23.4Ni22</td>\n",
       "      <td>634.0</td>\n",
       "      <td>2.780</td>\n",
       "      <td>0</td>\n",
       "      <td>0</td>\n",
       "    </tr>\n",
       "    <tr>\n",
       "      <th>6151</th>\n",
       "      <td>Zr55Cu30Al10Ni5</td>\n",
       "      <td>3732.0</td>\n",
       "      <td>2.700</td>\n",
       "      <td>0</td>\n",
       "      <td>0</td>\n",
       "    </tr>\n",
       "  </tbody>\n",
       "</table>\n",
       "<p>6152 rows × 5 columns</p>\n",
       "</div>"
      ],
      "text/plain": [
       "                              name      id     Tc  Cuprate  Fe-based\n",
       "0                   Ag0.005Zn0.995  2473.0  0.763        0         0\n",
       "1             Ag0.035Cd0.01Sn0.955  9686.0  3.650        0         0\n",
       "2                     Ag0.03Tl0.97   505.0  2.670        0         0\n",
       "3       Ag0.04Cd0.784Cu0.01Zn0.166  1603.0  0.000        0         0\n",
       "4                     Ag0.12In0.88  7679.0  4.690        0         0\n",
       "...                            ...     ...    ...      ...       ...\n",
       "6147            Zr33.3V59.25Nb7.35  5034.0  6.300        0         0\n",
       "6148                       Zr3V3O1   143.0  7.500        0         0\n",
       "6149  Zr46.75Ti8.25Cu7.5Ni10Be27.5  6165.0  1.840        0         0\n",
       "6150              Zr54.6Ti23.4Ni22   634.0  2.780        0         0\n",
       "6151               Zr55Cu30Al10Ni5  3732.0  2.700        0         0\n",
       "\n",
       "[6152 rows x 5 columns]"
      ]
     },
     "execution_count": 24,
     "metadata": {},
     "output_type": "execute_result"
    }
   ],
   "source": [
    "dataframe"
   ]
  },
  {
   "cell_type": "code",
   "execution_count": 25,
   "metadata": {},
   "outputs": [],
   "source": [
    "#!pip install matminer"
   ]
  },
  {
   "cell_type": "code",
   "execution_count": 26,
   "metadata": {},
   "outputs": [],
   "source": [
    "from matminer.featurizers.conversions import StrToComposition\n",
    "from matminer.featurizers.base import MultipleFeaturizer\n",
    "\n"
   ]
  },
  {
   "cell_type": "code",
   "execution_count": 27,
   "metadata": {},
   "outputs": [
    {
     "data": {
      "application/vnd.jupyter.widget-view+json": {
       "model_id": "962440599ae345ee8caac0b924565b58",
       "version_major": 2,
       "version_minor": 0
      },
      "text/plain": [
       "StrToComposition:   0%|          | 0/6152 [00:00<?, ?it/s]"
      ]
     },
     "metadata": {},
     "output_type": "display_data"
    }
   ],
   "source": [
    "dataframe=StrToComposition().featurize_dataframe(dataframe,'name',ignore_errors=True)\n"
   ]
  },
  {
   "cell_type": "code",
   "execution_count": 28,
   "metadata": {},
   "outputs": [],
   "source": [
    "# There are some NA entries in composition column of dataframe. We need to drop them for the next steps.\n",
    "dataframe = dataframe[dataframe['composition'].notna()]"
   ]
  },
  {
   "cell_type": "code",
   "execution_count": 29,
   "metadata": {},
   "outputs": [],
   "source": [
    "from matminer.featurizers import composition as cf\n",
    "feature_calculators = MultipleFeaturizer([cf.Stoichiometry(), cf.ElementProperty.from_preset(\"magpie\"),\n",
    "                                          cf.ValenceOrbital(props=['avg']), cf.IonProperty(fast=True)])"
   ]
  },
  {
   "cell_type": "code",
   "execution_count": 30,
   "metadata": {},
   "outputs": [],
   "source": [
    "# Below step is not needed. So commenting out here.\n",
    "#feature_labels = feature_calculators.feature_labels()\n"
   ]
  },
  {
   "cell_type": "code",
   "execution_count": 31,
   "metadata": {},
   "outputs": [
    {
     "data": {
      "application/vnd.jupyter.widget-view+json": {
       "model_id": "578646cb94fa4bb28dfa1bd76a156968",
       "version_major": 2,
       "version_minor": 0
      },
      "text/plain": [
       "MultipleFeaturizer:   0%|          | 0/6152 [00:00<?, ?it/s]"
      ]
     },
     "metadata": {},
     "output_type": "display_data"
    }
   ],
   "source": [
    "\n",
    "dataframe = feature_calculators.featurize_dataframe(dataframe, col_id='composition',ignore_errors=True);\n"
   ]
  },
  {
   "cell_type": "code",
   "execution_count": 32,
   "metadata": {},
   "outputs": [
    {
     "data": {
      "text/html": [
       "<div>\n",
       "<style scoped>\n",
       "    .dataframe tbody tr th:only-of-type {\n",
       "        vertical-align: middle;\n",
       "    }\n",
       "\n",
       "    .dataframe tbody tr th {\n",
       "        vertical-align: top;\n",
       "    }\n",
       "\n",
       "    .dataframe thead th {\n",
       "        text-align: right;\n",
       "    }\n",
       "</style>\n",
       "<table border=\"1\" class=\"dataframe\">\n",
       "  <thead>\n",
       "    <tr style=\"text-align: right;\">\n",
       "      <th></th>\n",
       "      <th>name</th>\n",
       "      <th>id</th>\n",
       "      <th>Tc</th>\n",
       "      <th>Cuprate</th>\n",
       "      <th>Fe-based</th>\n",
       "      <th>composition</th>\n",
       "      <th>0-norm</th>\n",
       "      <th>2-norm</th>\n",
       "      <th>3-norm</th>\n",
       "      <th>5-norm</th>\n",
       "      <th>...</th>\n",
       "      <th>MagpieData mean SpaceGroupNumber</th>\n",
       "      <th>MagpieData avg_dev SpaceGroupNumber</th>\n",
       "      <th>MagpieData mode SpaceGroupNumber</th>\n",
       "      <th>avg s valence electrons</th>\n",
       "      <th>avg p valence electrons</th>\n",
       "      <th>avg d valence electrons</th>\n",
       "      <th>avg f valence electrons</th>\n",
       "      <th>compound possible</th>\n",
       "      <th>max ionic char</th>\n",
       "      <th>avg ionic char</th>\n",
       "    </tr>\n",
       "  </thead>\n",
       "  <tbody>\n",
       "    <tr>\n",
       "      <th>0</th>\n",
       "      <td>Ag0.005Zn0.995</td>\n",
       "      <td>2473.0</td>\n",
       "      <td>0.763</td>\n",
       "      <td>0</td>\n",
       "      <td>0</td>\n",
       "      <td>(Ag, Zn)</td>\n",
       "      <td>2</td>\n",
       "      <td>0.995013</td>\n",
       "      <td>0.995000</td>\n",
       "      <td>0.995000</td>\n",
       "      <td>...</td>\n",
       "      <td>194.155000</td>\n",
       "      <td>0.308450</td>\n",
       "      <td>194.0</td>\n",
       "      <td>1.995000</td>\n",
       "      <td>0.000000</td>\n",
       "      <td>10.000000</td>\n",
       "      <td>0.00</td>\n",
       "      <td>False</td>\n",
       "      <td>0.019409</td>\n",
       "      <td>0.000097</td>\n",
       "    </tr>\n",
       "    <tr>\n",
       "      <th>1</th>\n",
       "      <td>Ag0.035Cd0.01Sn0.955</td>\n",
       "      <td>9686.0</td>\n",
       "      <td>3.650</td>\n",
       "      <td>0</td>\n",
       "      <td>0</td>\n",
       "      <td>(Ag, Cd, Sn)</td>\n",
       "      <td>3</td>\n",
       "      <td>0.955693</td>\n",
       "      <td>0.955016</td>\n",
       "      <td>0.955000</td>\n",
       "      <td>...</td>\n",
       "      <td>144.470000</td>\n",
       "      <td>6.627700</td>\n",
       "      <td>141.0</td>\n",
       "      <td>1.965000</td>\n",
       "      <td>1.910000</td>\n",
       "      <td>10.000000</td>\n",
       "      <td>0.00</td>\n",
       "      <td>False</td>\n",
       "      <td>0.018060</td>\n",
       "      <td>0.000185</td>\n",
       "    </tr>\n",
       "    <tr>\n",
       "      <th>2</th>\n",
       "      <td>Ag0.03Tl0.97</td>\n",
       "      <td>505.0</td>\n",
       "      <td>2.670</td>\n",
       "      <td>0</td>\n",
       "      <td>0</td>\n",
       "      <td>(Ag, Tl)</td>\n",
       "      <td>2</td>\n",
       "      <td>0.970464</td>\n",
       "      <td>0.970010</td>\n",
       "      <td>0.970000</td>\n",
       "      <td>...</td>\n",
       "      <td>194.930000</td>\n",
       "      <td>1.804200</td>\n",
       "      <td>194.0</td>\n",
       "      <td>1.970000</td>\n",
       "      <td>0.970000</td>\n",
       "      <td>10.000000</td>\n",
       "      <td>13.58</td>\n",
       "      <td>False</td>\n",
       "      <td>0.023739</td>\n",
       "      <td>0.000691</td>\n",
       "    </tr>\n",
       "    <tr>\n",
       "      <th>3</th>\n",
       "      <td>Ag0.04Cd0.784Cu0.01Zn0.166</td>\n",
       "      <td>1603.0</td>\n",
       "      <td>0.000</td>\n",
       "      <td>0</td>\n",
       "      <td>0</td>\n",
       "      <td>(Ag, Cd, Cu, Zn)</td>\n",
       "      <td>4</td>\n",
       "      <td>0.802441</td>\n",
       "      <td>0.786508</td>\n",
       "      <td>0.784067</td>\n",
       "      <td>...</td>\n",
       "      <td>195.550000</td>\n",
       "      <td>2.945000</td>\n",
       "      <td>194.0</td>\n",
       "      <td>1.950000</td>\n",
       "      <td>0.000000</td>\n",
       "      <td>10.000000</td>\n",
       "      <td>0.00</td>\n",
       "      <td>False</td>\n",
       "      <td>0.019409</td>\n",
       "      <td>0.000741</td>\n",
       "    </tr>\n",
       "    <tr>\n",
       "      <th>4</th>\n",
       "      <td>Ag0.12In0.88</td>\n",
       "      <td>7679.0</td>\n",
       "      <td>4.690</td>\n",
       "      <td>0</td>\n",
       "      <td>0</td>\n",
       "      <td>(Ag, In)</td>\n",
       "      <td>2</td>\n",
       "      <td>0.888144</td>\n",
       "      <td>0.880743</td>\n",
       "      <td>0.880008</td>\n",
       "      <td>...</td>\n",
       "      <td>149.320000</td>\n",
       "      <td>18.163200</td>\n",
       "      <td>139.0</td>\n",
       "      <td>1.880000</td>\n",
       "      <td>0.880000</td>\n",
       "      <td>10.000000</td>\n",
       "      <td>0.00</td>\n",
       "      <td>False</td>\n",
       "      <td>0.005609</td>\n",
       "      <td>0.000592</td>\n",
       "    </tr>\n",
       "    <tr>\n",
       "      <th>...</th>\n",
       "      <td>...</td>\n",
       "      <td>...</td>\n",
       "      <td>...</td>\n",
       "      <td>...</td>\n",
       "      <td>...</td>\n",
       "      <td>...</td>\n",
       "      <td>...</td>\n",
       "      <td>...</td>\n",
       "      <td>...</td>\n",
       "      <td>...</td>\n",
       "      <td>...</td>\n",
       "      <td>...</td>\n",
       "      <td>...</td>\n",
       "      <td>...</td>\n",
       "      <td>...</td>\n",
       "      <td>...</td>\n",
       "      <td>...</td>\n",
       "      <td>...</td>\n",
       "      <td>...</td>\n",
       "      <td>...</td>\n",
       "      <td>...</td>\n",
       "    </tr>\n",
       "    <tr>\n",
       "      <th>6147</th>\n",
       "      <td>Zr33.3V59.25Nb7.35</td>\n",
       "      <td>5034.0</td>\n",
       "      <td>6.300</td>\n",
       "      <td>0</td>\n",
       "      <td>0</td>\n",
       "      <td>(Zr, V, Nb)</td>\n",
       "      <td>3</td>\n",
       "      <td>0.684313</td>\n",
       "      <td>0.626635</td>\n",
       "      <td>0.599604</td>\n",
       "      <td>...</td>\n",
       "      <td>217.333333</td>\n",
       "      <td>15.555556</td>\n",
       "      <td>229.0</td>\n",
       "      <td>1.926426</td>\n",
       "      <td>0.000000</td>\n",
       "      <td>2.740240</td>\n",
       "      <td>0.00</td>\n",
       "      <td>False</td>\n",
       "      <td>0.022249</td>\n",
       "      <td>0.004851</td>\n",
       "    </tr>\n",
       "    <tr>\n",
       "      <th>6148</th>\n",
       "      <td>Zr3V3O1</td>\n",
       "      <td>143.0</td>\n",
       "      <td>7.500</td>\n",
       "      <td>0</td>\n",
       "      <td>0</td>\n",
       "      <td>(Zr, V, O)</td>\n",
       "      <td>3</td>\n",
       "      <td>0.622700</td>\n",
       "      <td>0.543279</td>\n",
       "      <td>0.492502</td>\n",
       "      <td>...</td>\n",
       "      <td>183.000000</td>\n",
       "      <td>48.857143</td>\n",
       "      <td>194.0</td>\n",
       "      <td>2.000000</td>\n",
       "      <td>0.571429</td>\n",
       "      <td>2.142857</td>\n",
       "      <td>0.00</td>\n",
       "      <td>False</td>\n",
       "      <td>0.671436</td>\n",
       "      <td>0.079428</td>\n",
       "    </tr>\n",
       "    <tr>\n",
       "      <th>6149</th>\n",
       "      <td>Zr46.75Ti8.25Cu7.5Ni10Be27.5</td>\n",
       "      <td>6165.0</td>\n",
       "      <td>1.840</td>\n",
       "      <td>0</td>\n",
       "      <td>0</td>\n",
       "      <td>(Zr, Ti, Cu, Ni, Be)</td>\n",
       "      <td>5</td>\n",
       "      <td>0.562683</td>\n",
       "      <td>0.499940</td>\n",
       "      <td>0.473971</td>\n",
       "      <td>...</td>\n",
       "      <td>199.425000</td>\n",
       "      <td>8.951250</td>\n",
       "      <td>194.0</td>\n",
       "      <td>1.925000</td>\n",
       "      <td>0.000000</td>\n",
       "      <td>2.650000</td>\n",
       "      <td>0.00</td>\n",
       "      <td>False</td>\n",
       "      <td>0.080661</td>\n",
       "      <td>0.010585</td>\n",
       "    </tr>\n",
       "    <tr>\n",
       "      <th>6150</th>\n",
       "      <td>Zr54.6Ti23.4Ni22</td>\n",
       "      <td>634.0</td>\n",
       "      <td>2.780</td>\n",
       "      <td>0</td>\n",
       "      <td>0</td>\n",
       "      <td>(Zr, Ti, Ni)</td>\n",
       "      <td>3</td>\n",
       "      <td>0.633460</td>\n",
       "      <td>0.571064</td>\n",
       "      <td>0.548712</td>\n",
       "      <td>...</td>\n",
       "      <td>200.820000</td>\n",
       "      <td>10.639200</td>\n",
       "      <td>194.0</td>\n",
       "      <td>2.000000</td>\n",
       "      <td>0.000000</td>\n",
       "      <td>3.320000</td>\n",
       "      <td>0.00</td>\n",
       "      <td>False</td>\n",
       "      <td>0.080661</td>\n",
       "      <td>0.012822</td>\n",
       "    </tr>\n",
       "    <tr>\n",
       "      <th>6151</th>\n",
       "      <td>Zr55Cu30Al10Ni5</td>\n",
       "      <td>3732.0</td>\n",
       "      <td>2.700</td>\n",
       "      <td>0</td>\n",
       "      <td>0</td>\n",
       "      <td>(Zr, Cu, Al, Ni)</td>\n",
       "      <td>4</td>\n",
       "      <td>0.636396</td>\n",
       "      <td>0.579393</td>\n",
       "      <td>0.555233</td>\n",
       "      <td>...</td>\n",
       "      <td>207.950000</td>\n",
       "      <td>15.345000</td>\n",
       "      <td>194.0</td>\n",
       "      <td>1.700000</td>\n",
       "      <td>0.100000</td>\n",
       "      <td>4.500000</td>\n",
       "      <td>0.00</td>\n",
       "      <td>False</td>\n",
       "      <td>0.080661</td>\n",
       "      <td>0.016894</td>\n",
       "    </tr>\n",
       "  </tbody>\n",
       "</table>\n",
       "<p>6152 rows × 151 columns</p>\n",
       "</div>"
      ],
      "text/plain": [
       "                              name      id     Tc  Cuprate  Fe-based  \\\n",
       "0                   Ag0.005Zn0.995  2473.0  0.763        0         0   \n",
       "1             Ag0.035Cd0.01Sn0.955  9686.0  3.650        0         0   \n",
       "2                     Ag0.03Tl0.97   505.0  2.670        0         0   \n",
       "3       Ag0.04Cd0.784Cu0.01Zn0.166  1603.0  0.000        0         0   \n",
       "4                     Ag0.12In0.88  7679.0  4.690        0         0   \n",
       "...                            ...     ...    ...      ...       ...   \n",
       "6147            Zr33.3V59.25Nb7.35  5034.0  6.300        0         0   \n",
       "6148                       Zr3V3O1   143.0  7.500        0         0   \n",
       "6149  Zr46.75Ti8.25Cu7.5Ni10Be27.5  6165.0  1.840        0         0   \n",
       "6150              Zr54.6Ti23.4Ni22   634.0  2.780        0         0   \n",
       "6151               Zr55Cu30Al10Ni5  3732.0  2.700        0         0   \n",
       "\n",
       "               composition  0-norm    2-norm    3-norm    5-norm  ...  \\\n",
       "0                 (Ag, Zn)       2  0.995013  0.995000  0.995000  ...   \n",
       "1             (Ag, Cd, Sn)       3  0.955693  0.955016  0.955000  ...   \n",
       "2                 (Ag, Tl)       2  0.970464  0.970010  0.970000  ...   \n",
       "3         (Ag, Cd, Cu, Zn)       4  0.802441  0.786508  0.784067  ...   \n",
       "4                 (Ag, In)       2  0.888144  0.880743  0.880008  ...   \n",
       "...                    ...     ...       ...       ...       ...  ...   \n",
       "6147           (Zr, V, Nb)       3  0.684313  0.626635  0.599604  ...   \n",
       "6148            (Zr, V, O)       3  0.622700  0.543279  0.492502  ...   \n",
       "6149  (Zr, Ti, Cu, Ni, Be)       5  0.562683  0.499940  0.473971  ...   \n",
       "6150          (Zr, Ti, Ni)       3  0.633460  0.571064  0.548712  ...   \n",
       "6151      (Zr, Cu, Al, Ni)       4  0.636396  0.579393  0.555233  ...   \n",
       "\n",
       "      MagpieData mean SpaceGroupNumber  MagpieData avg_dev SpaceGroupNumber  \\\n",
       "0                           194.155000                             0.308450   \n",
       "1                           144.470000                             6.627700   \n",
       "2                           194.930000                             1.804200   \n",
       "3                           195.550000                             2.945000   \n",
       "4                           149.320000                            18.163200   \n",
       "...                                ...                                  ...   \n",
       "6147                        217.333333                            15.555556   \n",
       "6148                        183.000000                            48.857143   \n",
       "6149                        199.425000                             8.951250   \n",
       "6150                        200.820000                            10.639200   \n",
       "6151                        207.950000                            15.345000   \n",
       "\n",
       "      MagpieData mode SpaceGroupNumber  avg s valence electrons  \\\n",
       "0                                194.0                 1.995000   \n",
       "1                                141.0                 1.965000   \n",
       "2                                194.0                 1.970000   \n",
       "3                                194.0                 1.950000   \n",
       "4                                139.0                 1.880000   \n",
       "...                                ...                      ...   \n",
       "6147                             229.0                 1.926426   \n",
       "6148                             194.0                 2.000000   \n",
       "6149                             194.0                 1.925000   \n",
       "6150                             194.0                 2.000000   \n",
       "6151                             194.0                 1.700000   \n",
       "\n",
       "      avg p valence electrons  avg d valence electrons  \\\n",
       "0                    0.000000                10.000000   \n",
       "1                    1.910000                10.000000   \n",
       "2                    0.970000                10.000000   \n",
       "3                    0.000000                10.000000   \n",
       "4                    0.880000                10.000000   \n",
       "...                       ...                      ...   \n",
       "6147                 0.000000                 2.740240   \n",
       "6148                 0.571429                 2.142857   \n",
       "6149                 0.000000                 2.650000   \n",
       "6150                 0.000000                 3.320000   \n",
       "6151                 0.100000                 4.500000   \n",
       "\n",
       "      avg f valence electrons  compound possible  max ionic char  \\\n",
       "0                        0.00              False        0.019409   \n",
       "1                        0.00              False        0.018060   \n",
       "2                       13.58              False        0.023739   \n",
       "3                        0.00              False        0.019409   \n",
       "4                        0.00              False        0.005609   \n",
       "...                       ...                ...             ...   \n",
       "6147                     0.00              False        0.022249   \n",
       "6148                     0.00              False        0.671436   \n",
       "6149                     0.00              False        0.080661   \n",
       "6150                     0.00              False        0.080661   \n",
       "6151                     0.00              False        0.080661   \n",
       "\n",
       "      avg ionic char  \n",
       "0           0.000097  \n",
       "1           0.000185  \n",
       "2           0.000691  \n",
       "3           0.000741  \n",
       "4           0.000592  \n",
       "...              ...  \n",
       "6147        0.004851  \n",
       "6148        0.079428  \n",
       "6149        0.010585  \n",
       "6150        0.012822  \n",
       "6151        0.016894  \n",
       "\n",
       "[6152 rows x 151 columns]"
      ]
     },
     "execution_count": 32,
     "metadata": {},
     "output_type": "execute_result"
    }
   ],
   "source": [
    "dataframe"
   ]
  },
  {
   "cell_type": "code",
   "execution_count": 33,
   "metadata": {},
   "outputs": [],
   "source": [
    "feature_list = data.columns[5:]\n",
    "feature_corr =  data[feature_list].corr().abs()"
   ]
  },
  {
   "cell_type": "code",
   "execution_count": 35,
   "metadata": {},
   "outputs": [],
   "source": [
    "dataframe=dataframe.dropna()"
   ]
  },
  {
   "cell_type": "code",
   "execution_count": 36,
   "metadata": {},
   "outputs": [
    {
     "data": {
      "text/plain": [
       "False"
      ]
     },
     "execution_count": 36,
     "metadata": {},
     "output_type": "execute_result"
    }
   ],
   "source": [
    "dataframe.isna().values.any()"
   ]
  },
  {
   "cell_type": "code",
   "execution_count": 37,
   "metadata": {},
   "outputs": [
    {
     "ename": "ZeroDivisionError",
     "evalue": "division by zero",
     "output_type": "error",
     "traceback": [
      "\u001b[1;31m---------------------------------------------------------------------------\u001b[0m",
      "\u001b[1;31mZeroDivisionError\u001b[0m                         Traceback (most recent call last)",
      "\u001b[1;32m~\\AppData\\Local\\Temp/ipykernel_36160/680870910.py\u001b[0m in \u001b[0;36m<module>\u001b[1;34m\u001b[0m\n\u001b[0;32m      2\u001b[0m \u001b[0mcmap\u001b[0m \u001b[1;33m=\u001b[0m \u001b[0mcm\u001b[0m\u001b[1;33m.\u001b[0m\u001b[0mget_cmap\u001b[0m\u001b[1;33m(\u001b[0m\u001b[1;34m\"magma\"\u001b[0m\u001b[1;33m)\u001b[0m\u001b[1;33m\u001b[0m\u001b[1;33m\u001b[0m\u001b[0m\n\u001b[0;32m      3\u001b[0m \u001b[0mplt\u001b[0m\u001b[1;33m.\u001b[0m\u001b[0mrcParams\u001b[0m\u001b[1;33m[\u001b[0m\u001b[1;34m'figure.figsize'\u001b[0m\u001b[1;33m]\u001b[0m \u001b[1;33m=\u001b[0m \u001b[1;33m(\u001b[0m\u001b[1;36m10.0\u001b[0m\u001b[1;33m,\u001b[0m \u001b[1;36m8.0\u001b[0m\u001b[1;33m)\u001b[0m\u001b[1;33m\u001b[0m\u001b[1;33m\u001b[0m\u001b[0m\n\u001b[1;32m----> 4\u001b[1;33m \u001b[0mplt\u001b[0m\u001b[1;33m.\u001b[0m\u001b[0mmatshow\u001b[0m\u001b[1;33m(\u001b[0m\u001b[0mfeature_corr\u001b[0m\u001b[1;33m,\u001b[0m \u001b[0mcmap\u001b[0m\u001b[1;33m=\u001b[0m\u001b[0mcmap\u001b[0m\u001b[1;33m)\u001b[0m\u001b[1;33m\u001b[0m\u001b[1;33m\u001b[0m\u001b[0m\n\u001b[0m\u001b[0;32m      5\u001b[0m \u001b[0mplt\u001b[0m\u001b[1;33m.\u001b[0m\u001b[0mcolorbar\u001b[0m\u001b[1;33m(\u001b[0m\u001b[1;33m)\u001b[0m\u001b[1;33m\u001b[0m\u001b[1;33m\u001b[0m\u001b[0m\n\u001b[0;32m      6\u001b[0m \u001b[0mplt\u001b[0m\u001b[1;33m.\u001b[0m\u001b[0mshow\u001b[0m\u001b[1;33m(\u001b[0m\u001b[1;33m)\u001b[0m\u001b[1;33m\u001b[0m\u001b[1;33m\u001b[0m\u001b[0m\n",
      "\u001b[1;32m~\\anaconda3\\envs\\nano281\\lib\\site-packages\\matplotlib\\pyplot.py\u001b[0m in \u001b[0;36mmatshow\u001b[1;34m(A, fignum, **kwargs)\u001b[0m\n\u001b[0;32m   2458\u001b[0m         \u001b[1;31m# Extract actual aspect ratio of array and make appropriately sized\u001b[0m\u001b[1;33m\u001b[0m\u001b[1;33m\u001b[0m\u001b[1;33m\u001b[0m\u001b[0m\n\u001b[0;32m   2459\u001b[0m         \u001b[1;31m# figure.\u001b[0m\u001b[1;33m\u001b[0m\u001b[1;33m\u001b[0m\u001b[1;33m\u001b[0m\u001b[0m\n\u001b[1;32m-> 2460\u001b[1;33m         \u001b[0mfig\u001b[0m \u001b[1;33m=\u001b[0m \u001b[0mfigure\u001b[0m\u001b[1;33m(\u001b[0m\u001b[0mfignum\u001b[0m\u001b[1;33m,\u001b[0m \u001b[0mfigsize\u001b[0m\u001b[1;33m=\u001b[0m\u001b[0mfigaspect\u001b[0m\u001b[1;33m(\u001b[0m\u001b[0mA\u001b[0m\u001b[1;33m)\u001b[0m\u001b[1;33m)\u001b[0m\u001b[1;33m\u001b[0m\u001b[1;33m\u001b[0m\u001b[0m\n\u001b[0m\u001b[0;32m   2461\u001b[0m         \u001b[0max\u001b[0m \u001b[1;33m=\u001b[0m \u001b[0mfig\u001b[0m\u001b[1;33m.\u001b[0m\u001b[0madd_axes\u001b[0m\u001b[1;33m(\u001b[0m\u001b[1;33m[\u001b[0m\u001b[1;36m0.15\u001b[0m\u001b[1;33m,\u001b[0m \u001b[1;36m0.09\u001b[0m\u001b[1;33m,\u001b[0m \u001b[1;36m0.775\u001b[0m\u001b[1;33m,\u001b[0m \u001b[1;36m0.775\u001b[0m\u001b[1;33m]\u001b[0m\u001b[1;33m)\u001b[0m\u001b[1;33m\u001b[0m\u001b[1;33m\u001b[0m\u001b[0m\n\u001b[0;32m   2462\u001b[0m     \u001b[0mim\u001b[0m \u001b[1;33m=\u001b[0m \u001b[0max\u001b[0m\u001b[1;33m.\u001b[0m\u001b[0mmatshow\u001b[0m\u001b[1;33m(\u001b[0m\u001b[0mA\u001b[0m\u001b[1;33m,\u001b[0m \u001b[1;33m**\u001b[0m\u001b[0mkwargs\u001b[0m\u001b[1;33m)\u001b[0m\u001b[1;33m\u001b[0m\u001b[1;33m\u001b[0m\u001b[0m\n",
      "\u001b[1;32m~\\anaconda3\\envs\\nano281\\lib\\site-packages\\matplotlib\\figure.py\u001b[0m in \u001b[0;36mfigaspect\u001b[1;34m(arg)\u001b[0m\n\u001b[0;32m   3217\u001b[0m     \u001b[1;32mif\u001b[0m \u001b[0misarray\u001b[0m\u001b[1;33m:\u001b[0m\u001b[1;33m\u001b[0m\u001b[1;33m\u001b[0m\u001b[0m\n\u001b[0;32m   3218\u001b[0m         \u001b[0mnr\u001b[0m\u001b[1;33m,\u001b[0m \u001b[0mnc\u001b[0m \u001b[1;33m=\u001b[0m \u001b[0marg\u001b[0m\u001b[1;33m.\u001b[0m\u001b[0mshape\u001b[0m\u001b[1;33m[\u001b[0m\u001b[1;33m:\u001b[0m\u001b[1;36m2\u001b[0m\u001b[1;33m]\u001b[0m\u001b[1;33m\u001b[0m\u001b[1;33m\u001b[0m\u001b[0m\n\u001b[1;32m-> 3219\u001b[1;33m         \u001b[0marr_ratio\u001b[0m \u001b[1;33m=\u001b[0m \u001b[0mnr\u001b[0m \u001b[1;33m/\u001b[0m \u001b[0mnc\u001b[0m\u001b[1;33m\u001b[0m\u001b[1;33m\u001b[0m\u001b[0m\n\u001b[0m\u001b[0;32m   3220\u001b[0m     \u001b[1;32melse\u001b[0m\u001b[1;33m:\u001b[0m\u001b[1;33m\u001b[0m\u001b[1;33m\u001b[0m\u001b[0m\n\u001b[0;32m   3221\u001b[0m         \u001b[0marr_ratio\u001b[0m \u001b[1;33m=\u001b[0m \u001b[0marg\u001b[0m\u001b[1;33m\u001b[0m\u001b[1;33m\u001b[0m\u001b[0m\n",
      "\u001b[1;31mZeroDivisionError\u001b[0m: division by zero"
     ]
    }
   ],
   "source": [
    "from matplotlib import cm as cm\n",
    "cmap = cm.get_cmap(\"magma\")\n",
    "plt.rcParams['figure.figsize'] = (10.0, 8.0)\n",
    "plt.matshow(feature_corr, cmap=cmap)\n",
    "plt.colorbar()\n",
    "plt.show()"
   ]
  },
  {
   "cell_type": "code",
   "execution_count": 40,
   "metadata": {},
   "outputs": [],
   "source": [
    "dataframe.to_csv(\"cleaned_data.csv\", index = False)"
   ]
  },
  {
   "cell_type": "code",
   "execution_count": null,
   "metadata": {},
   "outputs": [],
   "source": []
  }
 ],
 "metadata": {
  "kernelspec": {
   "display_name": "Python 3 (ipykernel)",
   "language": "python",
   "name": "python3"
  },
  "language_info": {
   "codemirror_mode": {
    "name": "ipython",
    "version": 3
   },
   "file_extension": ".py",
   "mimetype": "text/x-python",
   "name": "python",
   "nbconvert_exporter": "python",
   "pygments_lexer": "ipython3",
   "version": "3.8.11"
  },
  "toc": {
   "base_numbering": 1,
   "nav_menu": {},
   "number_sections": true,
   "sideBar": true,
   "skip_h1_title": false,
   "title_cell": "Table of Contents",
   "title_sidebar": "Contents",
   "toc_cell": false,
   "toc_position": {
    "height": "calc(100% - 180px)",
    "left": "10px",
    "top": "150px",
    "width": "307.2px"
   },
   "toc_section_display": true,
   "toc_window_display": true
  },
  "varInspector": {
   "cols": {
    "lenName": 16,
    "lenType": 16,
    "lenVar": 40
   },
   "kernels_config": {
    "python": {
     "delete_cmd_postfix": "",
     "delete_cmd_prefix": "del ",
     "library": "var_list.py",
     "varRefreshCmd": "print(var_dic_list())"
    },
    "r": {
     "delete_cmd_postfix": ") ",
     "delete_cmd_prefix": "rm(",
     "library": "var_list.r",
     "varRefreshCmd": "cat(var_dic_list()) "
    }
   },
   "types_to_exclude": [
    "module",
    "function",
    "builtin_function_or_method",
    "instance",
    "_Feature"
   ],
   "window_display": false
  }
 },
 "nbformat": 4,
 "nbformat_minor": 2
}
